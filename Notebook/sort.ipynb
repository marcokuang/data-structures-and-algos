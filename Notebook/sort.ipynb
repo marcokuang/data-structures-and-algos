{
 "metadata": {
  "language_info": {
   "codemirror_mode": {
    "name": "ipython",
    "version": 3
   },
   "file_extension": ".py",
   "mimetype": "text/x-python",
   "name": "python",
   "nbconvert_exporter": "python",
   "pygments_lexer": "ipython3",
   "version": "3.8.5-final"
  },
  "orig_nbformat": 2,
  "kernelspec": {
   "name": "python3",
   "display_name": "Python 3.8.5 64-bit",
   "metadata": {
    "interpreter": {
     "hash": "31f2aee4e71d21fbe5cf8b01ff0e069b9275f58929596ceb00d14d90e3e16cd6"
    }
   }
  }
 },
 "nbformat": 4,
 "nbformat_minor": 2,
 "cells": [
  {
   "source": [
    "# Selection sort\n",
    "----------------\n",
    "It demonstrates how the selection sort works:\n"
   ],
   "cell_type": "markdown",
   "metadata": {}
  },
  {
   "source": [
    "1. check every element from 0 to len(arr)\n",
    "2. find the smallest element and swap it to the start position 0\n",
    "3. shrink the size of the array by popping it out of the array\n",
    "4. continues the check from 1 to len(arr)\n"
   ],
   "cell_type": "markdown",
   "metadata": {}
  },
  {
   "cell_type": "code",
   "execution_count": 3,
   "metadata": {},
   "outputs": [
    {
     "output_type": "stream",
     "name": "stdout",
     "text": [
      "[0, 2, 2, 5, 7, 9, 10]\n"
     ]
    }
   ],
   "source": [
    "def getSmallest(arr):\n",
    "    minIdx = 0\n",
    "    for i in range(len(arr)):\n",
    "        if arr[i] < arr[minIdx]:\n",
    "            minIdx = i\n",
    "    return minIdx\n",
    "\n",
    "def selectionSort(arr):\n",
    "    newArr = []\n",
    "    for i in range(len(arr)):\n",
    "        min = getSmallest(arr)\n",
    "        newArr.append(arr.pop(min))\n",
    "    return newArr\n",
    "print(selectionSort([5,2,7,0,9,10,2]))"
   ]
  },
  {
   "cell_type": "code",
   "execution_count": null,
   "metadata": {},
   "outputs": [],
   "source": []
  }
 ]
}